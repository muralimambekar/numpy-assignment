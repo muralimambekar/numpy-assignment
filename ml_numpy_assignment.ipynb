{
 "cells": [
  {
   "cell_type": "markdown",
   "metadata": {},
   "source": [
    "Q.3 Write a function so that the columns of the output matrix are powers of the input vector. The order of the powers is determined by the increasing boolean argument. Specifically, when increasing is False, the i-th output column is the input vector raised element-wise to the power of N - i - 1.\n",
    "\n",
    "HINT: Such a matrix with a geometric progression in each row is named for Alexandre Theophile Vandermonde."
   ]
  },
  {
   "cell_type": "code",
   "execution_count": 2,
   "metadata": {},
   "outputs": [],
   "source": [
    "#vandermonde function computes vandermonde matrix. \n",
    "# arg: a is input matrix, p power to be raised by matrix and inc(increasing order) is True of False\n",
    "import numpy as np\n",
    "def vandermonde(a,p,inc):\n",
    "   \n",
    "    out_mat=np.array([])\n",
    "    for i in range(p):\n",
    "        out_mat=np.append(out_mat,a**[i])\n",
    "    out_mat=out_mat.astype(int)\n",
    "    out_mat=out_mat.reshape(p,len(a))\n",
    "    out_mat=np.transpose(out_mat)\n",
    "    if inc==True:\n",
    "        return out_mat\n",
    "    else:\n",
    "        return np.flip(out_mat, axis=1)"
   ]
  },
  {
   "cell_type": "code",
   "execution_count": 3,
   "metadata": {},
   "outputs": [
    {
     "data": {
      "text/plain": [
       "array([[  1,   1,   1],\n",
       "       [  4,   2,   1],\n",
       "       [  9,   3,   1],\n",
       "       [ 16,   4,   1],\n",
       "       [100,  10,   1]])"
      ]
     },
     "execution_count": 3,
     "metadata": {},
     "output_type": "execute_result"
    }
   ],
   "source": [
    "b=np.array([[1],[2],[3],[4],[10]])\n",
    "r=vandermonde(b,3,False)\n",
    "r"
   ]
  },
  {
   "cell_type": "code",
   "execution_count": 4,
   "metadata": {},
   "outputs": [
    {
     "data": {
      "text/plain": [
       "array([[  1,   1,   1],\n",
       "       [  1,   2,   4],\n",
       "       [  1,   3,   9],\n",
       "       [  1,   4,  16],\n",
       "       [  1,  10, 100]])"
      ]
     },
     "execution_count": 4,
     "metadata": {},
     "output_type": "execute_result"
    }
   ],
   "source": [
    "b=np.array([[1],[2],[3],[4],[10]])\n",
    "r=vandermonde(b,3,True)\n",
    "r"
   ]
  },
  {
   "cell_type": "markdown",
   "metadata": {},
   "source": [
    "Q.1 Given a sequence of n values x1, x2, ..., xn and a window size k>0, the k-th moving average of the given sequence is defined as follows:\n",
    "\n",
    "The moving average sequence has n-k+1 elements as shown below. The moving averages with k=4 of a ten-value sequence (n=10) is shown below\n",
    "\n",
    "i 1 2 3 4 5 6 7 8 9 10\n",
    "===== == == == == == == == == == ==\n",
    "Input 10 20 30 40 50 60 70 80 90 100\n",
    "y1 25 = (10+20+30+40)/4\n",
    "y2 35 = (20+30+40+50)/4\n",
    "y3 45 = (30+40+50+60)/4\n",
    "y4 55 = (40+50+60+70)/4\n",
    "y5 65 = (50+60+70+80)/4\n",
    "y6 75 = (60+70+80+90)/4\n",
    "y7 85 = (70+80+90+100)/4\n",
    "Thus, the moving average sequence has n-k+1=10-4+1=7 values.\n",
    "\n",
    "Write a function to find moving average in an array over a window:\n",
    "\n",
    "Test it over [3, 5, 7, 2, 8, 10, 11, 65, 72, 81, 99, 100, 150] and window of 3."
   ]
  },
  {
   "cell_type": "code",
   "execution_count": 5,
   "metadata": {},
   "outputs": [
    {
     "name": "stdout",
     "output_type": "stream",
     "text": [
      "y1 : 5.00\n",
      "y2 : 4.67\n",
      "y3 : 5.67\n",
      "y4 : 6.67\n",
      "y5 : 9.67\n",
      "y6 : 28.67\n",
      "y7 : 49.33\n",
      "y8 : 72.67\n",
      "y9 : 84.00\n",
      "y10 : 93.33\n",
      "y11 : 116.33\n"
     ]
    }
   ],
   "source": [
    "import numpy as np\n",
    "a=np.array([3, 5, 7, 2, 8, 10, 11, 65, 72, 81, 99, 100, 150])\n",
    "n= a.size\n",
    "k=3\n",
    "#y is an empty array later to store moving average \n",
    "y=np.empty(n-k+1)\n",
    "x=0\n",
    "#k is counter pointing element location\n",
    "for i in range(n-k+1):\n",
    "    for j in range(k):\n",
    "        y[x]=(a[x]+a[x+1]+a[x+2])/k\n",
    "    x=x+1\n",
    "for i in range(len(y)):\n",
    "    print('y%d : %.2f' %  (i+1,y[i]) )"
   ]
  }
 ],
 "metadata": {
  "kernelspec": {
   "display_name": "Python 3",
   "language": "python",
   "name": "python3"
  },
  "language_info": {
   "codemirror_mode": {
    "name": "ipython",
    "version": 3
   },
   "file_extension": ".py",
   "mimetype": "text/x-python",
   "name": "python",
   "nbconvert_exporter": "python",
   "pygments_lexer": "ipython3",
   "version": "3.7.6"
  }
 },
 "nbformat": 4,
 "nbformat_minor": 4
}
